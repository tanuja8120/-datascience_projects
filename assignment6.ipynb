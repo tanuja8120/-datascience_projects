{
  "nbformat": 4,
  "nbformat_minor": 0,
  "metadata": {
    "colab": {
      "name": "assignment6.ipynb",
      "provenance": [],
      "authorship_tag": "ABX9TyM/FfVSigmtQdLm2/4fRh2R",
      "include_colab_link": true
    },
    "kernelspec": {
      "name": "python3",
      "display_name": "Python 3"
    },
    "language_info": {
      "name": "python"
    }
  },
  "cells": [
    {
      "cell_type": "markdown",
      "metadata": {
        "id": "view-in-github",
        "colab_type": "text"
      },
      "source": [
        "<a href=\"https://colab.research.google.com/github/tanuja8120/-datascience_projects/blob/main/assignment6.ipynb\" target=\"_parent\"><img src=\"https://colab.research.google.com/assets/colab-badge.svg\" alt=\"Open In Colab\"/></a>"
      ]
    },
    {
      "cell_type": "code",
      "metadata": {
        "id": "lT8HlmSh1jCB"
      },
      "source": [
        "# 2. Problem Statement\n",
        "# Given a sequence of n values x1, x2, ..., xn and a window size k>0, the k-th moving\n",
        "# average of the given sequence is defined as follows:\n",
        "# The moving average sequence has n-k+1 elements as shown below.\n",
        "# The moving averages with k=4 of a ten-value sequence (n=10) is shown below\n",
        "# i 1 2 3 4 5 6 7 8 9 10\n",
        "# ===== == == == == == == == == == ==\n",
        "# Input 10 20 30 40 50 60 70 80 90 100\n",
        "# y1 25 = (10+20+30+40)/4\n",
        "# y2 35 = (20+30+40+50)/4\n",
        "# y3 45 = (30+40+50+60)/4\n",
        "# y4 55 = (40+50+60+70)/4\n",
        "# y5 65 = (50+60+70+80)/4\n",
        "# y6 75 = (60+70+80+90)/4\n",
        "# y7 85 = (70+80+90+100)/4\n",
        "# Thus, the moving average sequence has n-k+1=10-4+1=7 values.\n",
        "# Problem Statement\n",
        "# Write a function to find moving average in an array over a window:\n",
        "# Test it over [3, 5, 7, 2, 8, 10, 11, 65, 72, 81, 99, 100, 150] and window of3"
      ],
      "execution_count": 2,
      "outputs": []
    },
    {
      "cell_type": "code",
      "metadata": {
        "id": "9nYnJqvl4LQo"
      },
      "source": [
        " import numpy as np\n",
        "def moving_average(a, n=3) :\n",
        "# we use np.cumsum to get a cumulative sum of the numbers\n",
        "    asum = np.cumsum(a, dtype=float)\n",
        "#We are breaking the array as per desired number which is 'n' in our function\n",
        "#and subtracting elements to get the desired result\n",
        "    asum[n:] = asum[n:] - asum[:-n]\n",
        "    return asum[n - 1:]"
      ],
      "execution_count": 8,
      "outputs": []
    },
    {
      "cell_type": "code",
      "metadata": {
        "colab": {
          "base_uri": "https://localhost:8080/"
        },
        "id": "Iyzw3ul64fGs",
        "outputId": "d19fe068-b329-47ec-bc4e-51381b2c4c20"
      },
      "source": [
        "a=[3, 5, 7, 2, 8, 10, 11, 65, 72, 81, 99, 100, 150]\n",
        "a1=np.array(a)\n",
        "#rounding off the results to two digts\n",
        "np.array(moving_average(a1,n=3)).round(2)"
      ],
      "execution_count": 9,
      "outputs": [
        {
          "output_type": "execute_result",
          "data": {
            "text/plain": [
              "array([ 15.,  14.,  17.,  20.,  29.,  86., 148., 218., 252., 280., 349.])"
            ]
          },
          "metadata": {
            "tags": []
          },
          "execution_count": 9
        }
      ]
    },
    {
      "cell_type": "code",
      "metadata": {
        "id": "_G0l7KCo97KL"
      },
      "source": [
        "# Write a function so that the columns of the output matrix are powers of the input vector.\n",
        "# The order of the powers is determined by the increasing boolean argument. Specifically,when increasing is False,\n",
        "# the i-th output column is the input vector raised element-wise to the power of N - i - 1.\n",
        "# HINT: Such a matrix with a geometric progression in each row is named for Alexandre-Theophile Vandermonde."
      ],
      "execution_count": 11,
      "outputs": []
    },
    {
      "cell_type": "code",
      "metadata": {
        "colab": {
          "base_uri": "https://localhost:8080/"
        },
        "id": "pOS4i4DxAPSn",
        "outputId": "5204f3cd-1af4-4bed-8a70-7153fdd9d2f2"
      },
      "source": [
        "import numpy as np\n",
        "x=np.array([1,2,3,4,5])\n",
        "N=5\n",
        "matrix = np.column_stack([x**(N-i-1) for i in range(N)])\n",
        "print(matrix)"
      ],
      "execution_count": 12,
      "outputs": [
        {
          "output_type": "stream",
          "text": [
            "[[  1   1   1   1   1]\n",
            " [ 16   8   4   2   1]\n",
            " [ 81  27   9   3   1]\n",
            " [256  64  16   4   1]\n",
            " [625 125  25   5   1]]\n"
          ],
          "name": "stdout"
        }
      ]
    },
    {
      "cell_type": "code",
      "metadata": {
        "colab": {
          "base_uri": "https://localhost:8080/"
        },
        "id": "gXOUGk7iArcL",
        "outputId": "b7d5bf72-c353-49dd-c49d-18024e823de8"
      },
      "source": [
        " #Similar matrix is created using np.vander function in numpy\n",
        "import numpy as np\n",
        "x=np.array([1,2,3,4,5])\n",
        "N=5\n",
        "matrix1 = np.vander(x,N,increasing=False)\n",
        "print(matrix1)"
      ],
      "execution_count": 13,
      "outputs": [
        {
          "output_type": "stream",
          "text": [
            "[[  1   1   1   1   1]\n",
            " [ 16   8   4   2   1]\n",
            " [ 81  27   9   3   1]\n",
            " [256  64  16   4   1]\n",
            " [625 125  25   5   1]]\n"
          ],
          "name": "stdout"
        }
      ]
    },
    {
      "cell_type": "code",
      "metadata": {
        "colab": {
          "base_uri": "https://localhost:8080/"
        },
        "id": "trQYneUiA8lJ",
        "outputId": "c5e34a56-5af0-4840-9808-e1300012b758"
      },
      "source": [
        "# The determitant for both the matrixs is the same\n",
        "np.linalg.det(matrix)"
      ],
      "execution_count": 14,
      "outputs": [
        {
          "output_type": "execute_result",
          "data": {
            "text/plain": [
              "287.9999999999967"
            ]
          },
          "metadata": {
            "tags": []
          },
          "execution_count": 14
        }
      ]
    },
    {
      "cell_type": "code",
      "metadata": {
        "colab": {
          "base_uri": "https://localhost:8080/"
        },
        "id": "5KO__f7VBJ4P",
        "outputId": "b5246585-54b4-4b02-cf80-41e4af72e42a"
      },
      "source": [
        "np.linalg.det(matrix1)"
      ],
      "execution_count": 15,
      "outputs": [
        {
          "output_type": "execute_result",
          "data": {
            "text/plain": [
              "287.9999999999967"
            ]
          },
          "metadata": {
            "tags": []
          },
          "execution_count": 15
        }
      ]
    },
    {
      "cell_type": "code",
      "metadata": {
        "id": "H8iVqlmsBRiF"
      },
      "source": [
        ""
      ],
      "execution_count": null,
      "outputs": []
    }
  ]
}